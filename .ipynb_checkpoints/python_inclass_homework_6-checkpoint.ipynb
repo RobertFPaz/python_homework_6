{
 "cells": [
  {
   "cell_type": "code",
   "execution_count": 1,
   "id": "f43911ac",
   "metadata": {},
   "outputs": [
    {
     "name": "stdout",
     "output_type": "stream",
     "text": [
      "27\n"
     ]
    }
   ],
   "source": [
    "#Write an anonymous function that cubes the argument passed in and assign the anonymous function to a variable \"f\"\n",
    "f = lambda x: x ** 3\n",
    "print(f(3))"
   ]
  },
  {
   "cell_type": "code",
   "execution_count": 4,
   "id": "49674c2c",
   "metadata": {},
   "outputs": [
    {
     "name": "stdout",
     "output_type": "stream",
     "text": [
      "[(0, 8), (3, 15), (8, 15), (15, 24), (24, 0)]\n"
     ]
    }
   ],
   "source": [
    "#Use the map function  to double each number and minus it by one in the list by using lambda function \n",
    "numbers = [3, 4, 4, 5, 1]\n",
    "nums_list = [1,2,3,4,5]\n",
    "double_minus = list(map(lambda x, y: (x * x - 1, y * y -1), nums_list, numbers))\n",
    "print(double_minus)"
   ]
  },
  {
   "cell_type": "code",
   "execution_count": 8,
   "id": "810af100",
   "metadata": {},
   "outputs": [
    {
     "name": "stdout",
     "output_type": "stream",
     "text": [
      "[4, 5, 6]\n"
     ]
    }
   ],
   "source": [
    "#Filter out all the numbers that are below the mean of the list. HINT: Import the \"statistics\" module\n",
    "from statistics import mean\n",
    "numbers = [1,2,3,4,5,6]\n",
    "below_mean = list(filter(lambda number: True if number > mean(numbers) else False, numbers))\n",
    "print(below_mean)\n",
    "\n"
   ]
  },
  {
   "cell_type": "code",
   "execution_count": 11,
   "id": "6c00373d",
   "metadata": {},
   "outputs": [
    {
     "name": "stdout",
     "output_type": "stream",
     "text": [
      "24\n"
     ]
    }
   ],
   "source": [
    "#In class exercise 4\n",
    "#Use the reduce function to multiply the numbers in the list below together w/ a lambda function.\n",
    "from functools import reduce\n",
    "list_nums = [1,2,3,4]\n",
    "multiply = reduce(lambda x, y: x * y, list_nums)\n",
    "print(multiply)"
   ]
  },
  {
   "cell_type": "code",
   "execution_count": 17,
   "id": "3a48a224",
   "metadata": {},
   "outputs": [
    {
     "name": "stdout",
     "output_type": "stream",
     "text": [
      "3\n"
     ]
    }
   ],
   "source": [
    "#In class exercise 5\n",
    "#Write a recursive function that subtracts all number to the argument given.\n",
    "#Hint: return num - subNums(num - 1)\n",
    "def subNums(num):\n",
    "    if num <= 1:\n",
    "        return 1\n",
    "    else: \n",
    "        return num - subNums(num - 1)\n",
    "    \n",
    "print(subNums(5))"
   ]
  },
  {
   "cell_type": "code",
   "execution_count": 1,
   "id": "096c0182",
   "metadata": {},
   "outputs": [
    {
     "name": "stdout",
     "output_type": "stream",
     "text": [
      "100\n",
      "81\n",
      "64\n",
      "49\n",
      "36\n",
      "25\n",
      "16\n",
      "9\n",
      "4\n",
      "1\n"
     ]
    }
   ],
   "source": [
    "#In Class Exercise 6\n",
    "#Create a generator that takes a number argument and yields that number squared, then prints each number squared until \n",
    "#zero is reached.\n",
    "\n",
    "def squared(stop, start):\n",
    "    while start > stop:\n",
    "        yield start**2\n",
    "        start -= 1\n",
    "        \n",
    "for num in squared(0, start=10):\n",
    "    print(num)"
   ]
  },
  {
   "cell_type": "code",
   "execution_count": null,
   "id": "cc5181be",
   "metadata": {},
   "outputs": [],
   "source": []
  },
  {
   "cell_type": "code",
   "execution_count": null,
   "id": "4d2fab42",
   "metadata": {},
   "outputs": [],
   "source": []
  }
 ],
 "metadata": {
  "kernelspec": {
   "display_name": "Python 3 (ipykernel)",
   "language": "python",
   "name": "python3"
  },
  "language_info": {
   "codemirror_mode": {
    "name": "ipython",
    "version": 3
   },
   "file_extension": ".py",
   "mimetype": "text/x-python",
   "name": "python",
   "nbconvert_exporter": "python",
   "pygments_lexer": "ipython3",
   "version": "3.9.12"
  }
 },
 "nbformat": 4,
 "nbformat_minor": 5
}
