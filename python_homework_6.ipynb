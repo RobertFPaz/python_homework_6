{
 "cells": [
  {
   "cell_type": "code",
   "execution_count": 7,
   "id": "449bb6c0",
   "metadata": {},
   "outputs": [
    {
     "name": "stdout",
     "output_type": "stream",
     "text": [
      "['Argentina', 'San Diego', 'Boston', 'New York']\n"
     ]
    }
   ],
   "source": [
    "#Exercise 1\n",
    "#Filter out all of the empty strings from the list below.\n",
    "places = [\" \", \"Argentina\", \" \", \"San Diego\", \"\", \"Boston\", \"New York\"]\n",
    "\n",
    "only_char_places = list(filter(lambda string: True if len(string) > 0 and string[0].isalpha() else False, places))\n",
    "print(only_char_places)"
   ]
  },
  {
   "cell_type": "code",
   "execution_count": 7,
   "id": "22ea0549",
   "metadata": {},
   "outputs": [
    {
     "name": "stdout",
     "output_type": "stream",
     "text": [
      "['Victor aNisimov', 'Gary A.J. Bernstein', 'Joel Carter', 'Andrew P. Garfield', 'David hassELHOFF']\n"
     ]
    }
   ],
   "source": [
    "#Exercise 2\n",
    "#Write an anyonymous function (lambda function) that sorts this list by last name...\n",
    "#Hint: Use the .sort() method and access the key.\n",
    "author = [\"Joel Carter\", \"Victor aNisimov\", \"Andrew P. Garfield\", \"David hassELHOFF\", \"Gary A.J. Bernstein\"]\n",
    "\n",
    "author.sort(key=lambda names: names.lower().split()[-1])\n",
    "print(author)"
   ]
  },
  {
   "cell_type": "code",
   "execution_count": 68,
   "id": "47aeb657",
   "metadata": {},
   "outputs": [
    {
     "name": "stdout",
     "output_type": "stream",
     "text": [
      "[('Nashau', 89.6), ('Boston', 53.6), ('Los Angelos', 111.2), ('Miami', 84.2)]\n"
     ]
    }
   ],
   "source": [
    "#Exercise 3\n",
    "#Convert the list below from Celsius to Farhenheit, using the map function with a lambda...\n",
    "# F = (9/5)*C+32\n",
    "places = [('Nashau',32), ('Boston', 12), ('Los Angelos', 44), ('Miami', 29)]\n",
    "\n",
    "test = list(map(lambda c:((c[0],(9/5)*c[1] + 32)), places))\n",
    "print(test)"
   ]
  },
  {
   "cell_type": "code",
   "execution_count": 79,
   "id": "151149b1",
   "metadata": {},
   "outputs": [
    {
     "data": {
      "text/plain": [
       "13"
      ]
     },
     "execution_count": 79,
     "metadata": {},
     "output_type": "execute_result"
    }
   ],
   "source": [
    "#Exercise 4\n",
    "#Write a recursion function to perform the fibonacci sequence up to the number passed in. \n",
    "def fib(num):\n",
    "    if num == 1 or num == 0:\n",
    "        return 1\n",
    "    else:\n",
    "        return fib(num - 2) + fib(num - 1)\n",
    "    \n",
    "fib(6)"
   ]
  },
  {
   "cell_type": "code",
   "execution_count": null,
   "id": "b23ecc29",
   "metadata": {},
   "outputs": [],
   "source": []
  }
 ],
 "metadata": {
  "kernelspec": {
   "display_name": "Python 3 (ipykernel)",
   "language": "python",
   "name": "python3"
  },
  "language_info": {
   "codemirror_mode": {
    "name": "ipython",
    "version": 3
   },
   "file_extension": ".py",
   "mimetype": "text/x-python",
   "name": "python",
   "nbconvert_exporter": "python",
   "pygments_lexer": "ipython3",
   "version": "3.9.12"
  }
 },
 "nbformat": 4,
 "nbformat_minor": 5
}
